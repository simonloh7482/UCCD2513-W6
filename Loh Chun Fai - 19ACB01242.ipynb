{
 "cells": [
  {
   "cell_type": "markdown",
   "metadata": {
    "pycharm": {
     "name": "#%% md\n"
    }
   },
   "source": [
    "# Setup"
   ]
  },
  {
   "cell_type": "code",
   "execution_count": null,
   "metadata": {
    "pycharm": {
     "name": "#%%\n"
    }
   },
   "outputs": [],
   "source": [
    "import sys\n",
    "# Python 3.7 is required\n",
    "assert sys.version_info >= (3,7)\n",
    "\n",
    "import cv2 as cv\n",
    "import numpy as np\n",
    "import matplotlib.pyplot as plt\n",
    "\n",
    "# Make sure that optimization is enabled\n",
    "if not cv.useOptimized():\n",
    "    cv.setUseOptimized(True)\n",
    "\n",
    "cv.useOptimized()"
   ]
  },
  {
   "cell_type": "markdown",
   "metadata": {
    "pycharm": {
     "name": "#%% md\n"
    }
   },
   "source": [
    "1. Write a program to segment the boat and the people on it from the background. Follow the instruction below:\n",
    "    - Use 'boat.jpg' as input.\n",
    "    - Apply Otsu thresholding.\n",
    "    - Draw bounding box to identify the region where the boat and people are located."
   ]
  },
  {
   "cell_type": "code",
   "execution_count": null,
   "metadata": {
    "pycharm": {
     "name": "#%%\n"
    }
   },
   "outputs": [],
   "source": [
    "#import\n",
    "img = cv.imread('boat.jpg', 0)   # 0 means grayscale\n",
    "\n",
    "# Otsu's threshold\n",
    "ret, th = cv.threshold(img, 25, 255, cv.THRESH_BINARY+cv.THRESH_OTSU)\n",
    "pt1 = (300, 350)\n",
    "pt2 = (680, 480)\n",
    "#bounding box\n",
    "cv.rectangle(th, pt1, pt2, (0, 0, 255), 3, cv.LINE_AA)\n",
    "\n",
    "res = cv.cvtColor(th, cv.COLOR_GRAY2BGR)\n",
    "cv.imshow(\"Otsu's Thresholding\", th)\n",
    "cv.waitKey(0)\n",
    "cv.destroyAllWindows()"
   ]
  },
  {
   "cell_type": "markdown",
   "metadata": {
    "pycharm": {
     "name": "#%% md\n"
    }
   },
   "source": [
    "2. Write a program to visualize the effect of size of structuring element on the morphological transformation (e.g. erosion, dilation, opening, and closing).\n",
    "    - Load the 'leaf.jfif' and perform thresholding to segment the leaf from the background.\n",
    "    - Create a GUI containing trackbar to control the size of structuring element and display the resulting image on a window alongside the trackbar."
   ]
  },
  {
   "cell_type": "code",
   "execution_count": null,
   "metadata": {
    "pycharm": {
     "name": "#%%\n"
    }
   },
   "outputs": [],
   "source": [
    "img = cv.imread('leaf.jfif',0)\n",
    "def trackbar(x):\n",
    "    #kernel\n",
    "    struc_elem = np.ones((x,x), dtype = \"uint8\")\n",
    "    #erosion\n",
    "    erode = cv.erode(img, struc_elem, iterations = 1)\n",
    "    #dilation\n",
    "    dilate = cv.dilate(img, struc_elem, iterations = 1)\n",
    "    #opening\n",
    "    opening = cv.morphologyEx(img, cv.MORPH_OPEN,struc_elem)\n",
    "    #closing\n",
    "    closing = cv.morphologyEx(img, cv.MORPH_CLOSE, struc_elem)\n",
    "\n",
    "    cv.imshow('Erode, Dilate, Opening, Closing',np.hstack([erode,dilate,opening,closing]))\n",
    "    \n",
    "cv.namedWindow('Erode, Dilate, Opening, Closing')\n",
    "cv.createTrackbar('Size', 'Erode, Dilate, Opening, Closing', 3, 20, trackbar)\n",
    "\n",
    "cv.waitKey(0)\n",
    "cv.destroyAllWindows()"
   ]
  },
  {
   "attachments": {},
   "cell_type": "markdown",
   "metadata": {
    "pycharm": {
     "name": "#%% md\n"
    }
   },
   "source": [
    "3. Apply the steps shown in exercise 4 to segment the porcelain from these images: \"porcelain1.jfif\" - \"porcelain5.jfif\".\n"
   ]
  },
  {
   "cell_type": "code",
   "execution_count": null,
   "metadata": {
    "pycharm": {
     "name": "#%%\n"
    }
   },
   "outputs": [],
   "source": [
    "#import\n",
    "img1 = cv.imread('porcelain1.jfif')\n",
    "img1_hsv = cv.cvtColor(img1, cv.COLOR_BGR2HSV)\n",
    "img1 = cv.cvtColor(img1, cv.COLOR_BGR2RGB)\n",
    "img2 = cv.imread('porcelain2.jfif')\n",
    "img2_hsv = cv.cvtColor(img2, cv.COLOR_BGR2HSV)\n",
    "img2 = cv.cvtColor(img2, cv.COLOR_BGR2RGB)\n",
    "img3 = cv.imread('porcelain3.jfif')\n",
    "img3_hsv = cv.cvtColor(img3, cv.COLOR_BGR2HSV)\n",
    "img3 = cv.cvtColor(img3, cv.COLOR_BGR2RGB)\n",
    "img4 = cv.imread('porcelain4.jfif')\n",
    "img4_hsv = cv.cvtColor(img4, cv.COLOR_BGR2HSV)\n",
    "img4 = cv.cvtColor(img4, cv.COLOR_BGR2RGB)\n",
    "img5 = cv.imread('porcelain5.jfif')\n",
    "img5_hsv = cv.cvtColor(img5, cv.COLOR_BGR2HSV)\n",
    "img5 = cv.cvtColor(img5, cv.COLOR_BGR2RGB)\n",
    "\n",
    "print(img1 is not None,img2 is not None, img3 is not None, img4 is not None, img5 is not None)"
   ]
  },
  {
   "cell_type": "code",
   "execution_count": null,
   "metadata": {},
   "outputs": [],
   "source": [
    "from mpl_toolkits.mplot3d import Axes3D\n",
    "from matplotlib import cm\n",
    "from matplotlib import colors"
   ]
  },
  {
   "cell_type": "code",
   "execution_count": null,
   "metadata": {},
   "outputs": [],
   "source": [
    "#find color\n",
    "h, s, v = cv.split(img2_hsv)\n",
    "fig = plt.figure()\n",
    "axis = fig.add_subplot(1, 1, 1, projection = \"3d\")\n",
    "\n",
    "axis.scatter(h.flatten(), s.flatten(), v.flatten(), facecolors = pixel_colors,\n",
    "            marker = \".\")\n",
    "axis.set_xlabel(\"Hue\")\n",
    "axis.set_ylabel(\"Saturation\")\n",
    "axis.set_zlabel(\"Value\")\n",
    "plt.show()"
   ]
  },
  {
   "cell_type": "code",
   "execution_count": null,
   "metadata": {},
   "outputs": [],
   "source": [
    "#color segmentation\n",
    "blue_low = (65, 0, 0)\n",
    "blue_high = (125, 255, 255)\n",
    "\n",
    "mask1 = cv.inRange(img1_hsv, blue_low, blue_high)\n",
    "res1 = cv.bitwise_and(img1, img1, mask = mask1)\n",
    "mask2 = cv.inRange(img2_hsv, blue_low, blue_high)\n",
    "res2 = cv.bitwise_and(img2, img2, mask = mask2)\n",
    "mask3 = cv.inRange(img3_hsv, blue_low, blue_high)\n",
    "res3 = cv.bitwise_and(img3, img3, mask = mask3)\n",
    "mask4 = cv.inRange(img4_hsv, blue_low, blue_high)\n",
    "res4 = cv.bitwise_and(img4, img4, mask = mask4)\n",
    "mask5 = cv.inRange(img5_hsv, blue_low, blue_high)\n",
    "res5 = cv.bitwise_and(img5, img5, mask = mask5)\n"
   ]
  },
  {
   "cell_type": "code",
   "execution_count": null,
   "metadata": {},
   "outputs": [],
   "source": [
    "#display results\n",
    "plt.figure(figsize=(10,10))\n",
    "plt.suptitle('Original images and its segmentation results')\n",
    "plt.subplot(5,5,1)\n",
    "plt.imshow(img1)\n",
    "plt.subplot(5,5,5)\n",
    "plt.imshow(res1)\n",
    "plt.subplot(5,5,6)\n",
    "plt.imshow(img2)\n",
    "plt.subplot(5,5,10)\n",
    "plt.imshow(res2)\n",
    "plt.subplot(5,5,11)\n",
    "plt.imshow(img3)\n",
    "plt.subplot(5,5,15)\n",
    "plt.imshow(res3)\n",
    "plt.subplot(5,5,16)\n",
    "plt.imshow(img4)\n",
    "plt.subplot(5,5,20)\n",
    "plt.imshow(res4)\n",
    "plt.subplot(5,5,21)\n",
    "plt.imshow(img5)\n",
    "plt.subplot(5,5,25)\n",
    "plt.imshow(res5)\n",
    "plt.show()"
   ]
  },
  {
   "cell_type": "code",
   "execution_count": null,
   "metadata": {},
   "outputs": [],
   "source": []
  }
 ],
 "metadata": {
  "kernelspec": {
   "display_name": "Python 3 (ipykernel)",
   "language": "python",
   "name": "python3"
  },
  "language_info": {
   "codemirror_mode": {
    "name": "ipython",
    "version": 3
   },
   "file_extension": ".py",
   "mimetype": "text/x-python",
   "name": "python",
   "nbconvert_exporter": "python",
   "pygments_lexer": "ipython3",
   "version": "3.9.12"
  }
 },
 "nbformat": 4,
 "nbformat_minor": 1
}
